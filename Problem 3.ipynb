{
 "cells": [
  {
   "cell_type": "markdown",
   "id": "7de8aa66",
   "metadata": {},
   "source": [
    "## Name: Vaibhav Bichave\n",
    "\n",
    "## Build Feedforward neural networks with Keras and TensorFlow for classification of CIFAR10 image dataset using the following steps:\n",
    "    a. Import the necessary packages\n",
    "    b. Load the training and testing data\n",
    "    c. Define the network architecture using Keras\n",
    "    d. Train the model using SGD/Adam optimizer\n",
    "    e. Evaluate the network\n",
    "    f. Plot the training loss and accuracy"
   ]
  },
  {
   "cell_type": "code",
   "execution_count": 1,
   "id": "bb2f5cd4",
   "metadata": {},
   "outputs": [],
   "source": [
    "from tensorflow.keras.datasets import cifar10"
   ]
  },
  {
   "cell_type": "code",
   "execution_count": 2,
   "id": "a645bdf3",
   "metadata": {},
   "outputs": [],
   "source": [
    "(X_train,y_train),(X_test,y_test) = cifar10.load_data()"
   ]
  },
  {
   "cell_type": "code",
   "execution_count": 3,
   "id": "1941b1f3",
   "metadata": {},
   "outputs": [],
   "source": [
    "X_train  = X_train/255.0\n",
    "X_test = X_test/255.0"
   ]
  },
  {
   "cell_type": "code",
   "execution_count": 4,
   "id": "5fd2bee0",
   "metadata": {},
   "outputs": [],
   "source": [
    "X_train = X_train.reshape(X_train.shape[0],-1)\n",
    "X_test = X_test.reshape(X_test.shape[0],-1)"
   ]
  },
  {
   "cell_type": "code",
   "execution_count": 5,
   "id": "a9feda07",
   "metadata": {},
   "outputs": [],
   "source": [
    "y_train = y_train.flatten()\n",
    "y_test = y_test.flatten()"
   ]
  },
  {
   "cell_type": "code",
   "execution_count": 6,
   "id": "85fd1101",
   "metadata": {},
   "outputs": [],
   "source": [
    "from tensorflow.keras.models import Sequential\n",
    "from tensorflow.keras.layers import Dense"
   ]
  },
  {
   "cell_type": "code",
   "execution_count": 7,
   "id": "fe08e427",
   "metadata": {},
   "outputs": [
    {
     "name": "stdout",
     "output_type": "stream",
     "text": [
      "Model: \"sequential\"\n",
      "_________________________________________________________________\n",
      " Layer (type)                Output Shape              Param #   \n",
      "=================================================================\n",
      " dense (Dense)               (None, 64)                196672    \n",
      "                                                                 \n",
      " dense_1 (Dense)             (None, 32)                2080      \n",
      "                                                                 \n",
      " dense_2 (Dense)             (None, 10)                330       \n",
      "                                                                 \n",
      "=================================================================\n",
      "Total params: 199,082\n",
      "Trainable params: 199,082\n",
      "Non-trainable params: 0\n",
      "_________________________________________________________________\n"
     ]
    }
   ],
   "source": [
    "model = Sequential([\n",
    "    Dense(64,activation ='relu',input_shape=(3072,)),\n",
    "    Dense(32,activation='relu'),\n",
    "    Dense(10,activation='softmax')\n",
    "])\n",
    "\n",
    "model.summary()"
   ]
  },
  {
   "cell_type": "code",
   "execution_count": 8,
   "id": "e8065f10",
   "metadata": {},
   "outputs": [],
   "source": [
    "from tensorflow.keras.losses import SparseCategoricalCrossentropy\n",
    "model.compile(optimizer='adam',loss=SparseCategoricalCrossentropy(),metrics=['accuracy'])"
   ]
  },
  {
   "cell_type": "code",
   "execution_count": 9,
   "id": "cc8927cd",
   "metadata": {},
   "outputs": [
    {
     "name": "stdout",
     "output_type": "stream",
     "text": [
      "Epoch 1/10\n",
      "1563/1563 [==============================] - 36s 18ms/step - loss: 1.9123 - accuracy: 0.3070 - val_loss: 1.7579 - val_accuracy: 0.3621\n",
      "Epoch 2/10\n",
      "1563/1563 [==============================] - 24s 15ms/step - loss: 1.7535 - accuracy: 0.3670 - val_loss: 1.7033 - val_accuracy: 0.3862\n",
      "Epoch 3/10\n",
      "1563/1563 [==============================] - 27s 17ms/step - loss: 1.6918 - accuracy: 0.3938 - val_loss: 1.6856 - val_accuracy: 0.3922\n",
      "Epoch 4/10\n",
      "1563/1563 [==============================] - 6s 4ms/step - loss: 1.6568 - accuracy: 0.4047 - val_loss: 1.6436 - val_accuracy: 0.4114\n",
      "Epoch 5/10\n",
      "1563/1563 [==============================] - 5s 3ms/step - loss: 1.6309 - accuracy: 0.4146 - val_loss: 1.6174 - val_accuracy: 0.4207\n",
      "Epoch 6/10\n",
      "1563/1563 [==============================] - 11s 7ms/step - loss: 1.6029 - accuracy: 0.4270 - val_loss: 1.5890 - val_accuracy: 0.4306\n",
      "Epoch 7/10\n",
      "1563/1563 [==============================] - 5s 3ms/step - loss: 1.5863 - accuracy: 0.4322 - val_loss: 1.6051 - val_accuracy: 0.4269\n",
      "Epoch 8/10\n",
      "1563/1563 [==============================] - 5s 3ms/step - loss: 1.5726 - accuracy: 0.4363 - val_loss: 1.5824 - val_accuracy: 0.4296\n",
      "Epoch 9/10\n",
      "1563/1563 [==============================] - 5s 3ms/step - loss: 1.5585 - accuracy: 0.4406 - val_loss: 1.5616 - val_accuracy: 0.4412\n",
      "Epoch 10/10\n",
      "1563/1563 [==============================] - 6s 4ms/step - loss: 1.5471 - accuracy: 0.4451 - val_loss: 1.5740 - val_accuracy: 0.4355\n"
     ]
    }
   ],
   "source": [
    "epochs = 10\n",
    "H = model.fit(X_train,y_train,validation_data=(X_test,y_test),epochs=epochs)"
   ]
  },
  {
   "cell_type": "code",
   "execution_count": 10,
   "id": "99db6ec0",
   "metadata": {},
   "outputs": [
    {
     "name": "stdout",
     "output_type": "stream",
     "text": [
      "              precision    recall  f1-score   support\n",
      "\n",
      "           0       0.53      0.44      0.48      1000\n",
      "           1       0.58      0.48      0.53      1000\n",
      "           2       0.36      0.11      0.17      1000\n",
      "           3       0.35      0.21      0.26      1000\n",
      "           4       0.39      0.29      0.33      1000\n",
      "           5       0.40      0.36      0.38      1000\n",
      "           6       0.44      0.57      0.50      1000\n",
      "           7       0.36      0.65      0.47      1000\n",
      "           8       0.51      0.65      0.57      1000\n",
      "           9       0.41      0.60      0.49      1000\n",
      "\n",
      "    accuracy                           0.44     10000\n",
      "   macro avg       0.43      0.44      0.42     10000\n",
      "weighted avg       0.43      0.44      0.42     10000\n",
      "\n"
     ]
    }
   ],
   "source": [
    "from sklearn.metrics import classification_report\n",
    "predition = model.predict(X_test)\n",
    "print(classification_report(y_test,predition.argmax(axis=1)))"
   ]
  },
  {
   "cell_type": "code",
   "execution_count": 11,
   "id": "8da764f6",
   "metadata": {},
   "outputs": [
    {
     "data": {
      "image/png": "[encoded data removed]",
      "text/plain": [
       "<Figure size 432x288 with 1 Axes>"
      ]
     },
     "metadata": {
      "needs_background": "light"
     },
     "output_type": "display_data"
    }
   ],
   "source": [
    "import matplotlib.pyplot as plt\n",
    "plt.plot(range(0,epochs),H.history['accuracy'],label = 'train_accuracy')\n",
    "plt.plot(range(0,epochs),H.history['val_accuracy'],label = 'test_accuracy')\n",
    "plt.xlabel('Epochs')\n",
    "plt.ylabel('Accuracy')\n",
    "plt.legend()\n",
    "plt.grid()"
   ]
  },
  {
   "cell_type": "code",
   "execution_count": 12,
   "id": "c45ea9a0",
   "metadata": {
    "scrolled": false
   },
   "outputs": [
    {
     "data": {
      "image/png": "[encoded data removed]",
      "text/plain": [
       "<Figure size 432x288 with 1 Axes>"
      ]
     },
     "metadata": {
      "needs_background": "light"
     },
     "output_type": "display_data"
    }
   ],
   "source": [
    "import matplotlib.pyplot as plt\n",
    "plt.plot(range(0,epochs),H.history['loss'],label = 'train_loss')\n",
    "plt.plot(range(0,epochs),H.history['val_loss'],label = 'test_loss')\n",
    "plt.xlabel('Epochs')\n",
    "plt.ylabel('Loss')\n",
    "plt.legend()\n",
    "plt.grid();"
   ]
  }
 ],
 "metadata": {
  "kernelspec": {
   "display_name": "Python 3 (ipykernel)",
   "language": "python",
   "name": "python3"
  },
  "language_info": {
   "codemirror_mode": {
    "name": "ipython",
    "version": 3
   },
   "file_extension": ".py",
   "mimetype": "text/x-python",
   "name": "python",
   "nbconvert_exporter": "python",
   "pygments_lexer": "ipython3",
   "version": "3.8.6"
  }
 },
 "nbformat": 4,
 "nbformat_minor": 5
}
