{
 "cells": [
  {
   "cell_type": "markdown",
   "id": "95f62f6b",
   "metadata": {},
   "source": [
    "## Name: Vaibhav Bichave\n",
    "\n",
    "## Implementing Feedforward neural networks with Keras and TensorFlowfor classification of hand-written MNIST dataset using below steps:\n",
    "    a.Import the necessary packages\n",
    "    b.Load the training and testing data\n",
    "    c.Define the network architecture using Keras\n",
    "    d.Train the model using SGDwith 11 epochs\n",
    "    e.Evaluate the network\n",
    "    f.Plot the training loss and accuracy "
   ]
  },
  {
   "cell_type": "code",
   "execution_count": 1,
   "id": "f6734c63",
   "metadata": {},
   "outputs": [],
   "source": [
    "import tensorflow.keras as keras\n",
    "from tensorflow.keras.datasets import mnist"
   ]
  },
  {
   "cell_type": "code",
   "execution_count": 2,
   "id": "a4de90a2",
   "metadata": {},
   "outputs": [],
   "source": [
    "(X_train,y_train),(X_test,y_test) = mnist.load_data()"
   ]
  },
  {
   "cell_type": "code",
   "execution_count": 3,
   "id": "7efe93c1",
   "metadata": {},
   "outputs": [],
   "source": [
    "X_train = X_train/255.0\n",
    "X_test = X_test/255.0"
   ]
  },
  {
   "cell_type": "code",
   "execution_count": 4,
   "id": "b7e5e92d",
   "metadata": {},
   "outputs": [],
   "source": [
    "X_train = X_train.reshape(X_train.shape[0],-1)\n",
    "X_test = X_test.reshape(X_test.shape[0],-1)"
   ]
  },
  {
   "cell_type": "code",
   "execution_count": 5,
   "id": "ad3435ce",
   "metadata": {},
   "outputs": [],
   "source": [
    "from tensorflow.keras.layers import Dense\n",
    "from tensorflow.keras.models import Sequential\n",
    "from tensorflow.keras.optimizers import Adam"
   ]
  },
  {
   "cell_type": "code",
   "execution_count": 6,
   "id": "4d931324",
   "metadata": {},
   "outputs": [
    {
     "name": "stdout",
     "output_type": "stream",
     "text": [
      "Model: \"sequential\"\n",
      "_________________________________________________________________\n",
      " Layer (type)                Output Shape              Param #   \n",
      "=================================================================\n",
      " dense (Dense)               (None, 64)                50240     \n",
      "                                                                 \n",
      " dense_1 (Dense)             (None, 32)                2080      \n",
      "                                                                 \n",
      " dense_2 (Dense)             (None, 10)                330       \n",
      "                                                                 \n",
      "=================================================================\n",
      "Total params: 52,650\n",
      "Trainable params: 52,650\n",
      "Non-trainable params: 0\n",
      "_________________________________________________________________\n"
     ]
    }
   ],
   "source": [
    "model = Sequential([\n",
    "    Dense(64,activation='relu',input_shape=(28*28,)),\n",
    "    Dense(32,activation='relu'),\n",
    "    Dense(10,activation='softmax'),\n",
    "])\n",
    "\n",
    "model.summary()"
   ]
  },
  {
   "cell_type": "code",
   "execution_count": 7,
   "id": "047782cc",
   "metadata": {},
   "outputs": [],
   "source": [
    "from tensorflow.keras.losses import SparseCategoricalCrossentropy\n",
    "model.compile(optimizer='sgd',metrics=['accuracy'],loss=SparseCategoricalCrossentropy())"
   ]
  },
  {
   "cell_type": "code",
   "execution_count": 8,
   "id": "90f0b65d",
   "metadata": {
    "scrolled": true
   },
   "outputs": [
    {
     "name": "stdout",
     "output_type": "stream",
     "text": [
      "Epoch 1/11\n",
      "1875/1875 [==============================] - 7s 3ms/step - loss: 0.6800 - accuracy: 0.8158 - val_loss: 0.3200 - val_accuracy: 0.9107\n",
      "Epoch 2/11\n",
      "1875/1875 [==============================] - 5s 3ms/step - loss: 0.2990 - accuracy: 0.9149 - val_loss: 0.2563 - val_accuracy: 0.9282\n",
      "Epoch 3/11\n",
      "1875/1875 [==============================] - 5s 3ms/step - loss: 0.2479 - accuracy: 0.9288 - val_loss: 0.2244 - val_accuracy: 0.9376\n",
      "Epoch 4/11\n",
      "1875/1875 [==============================] - 6s 3ms/step - loss: 0.2146 - accuracy: 0.9384 - val_loss: 0.2018 - val_accuracy: 0.9426\n",
      "Epoch 5/11\n",
      "1875/1875 [==============================] - 7s 4ms/step - loss: 0.1903 - accuracy: 0.9452 - val_loss: 0.1811 - val_accuracy: 0.9486\n",
      "Epoch 6/11\n",
      "1875/1875 [==============================] - 6s 3ms/step - loss: 0.1714 - accuracy: 0.9506 - val_loss: 0.1627 - val_accuracy: 0.9537\n",
      "Epoch 7/11\n",
      "1875/1875 [==============================] - 5s 3ms/step - loss: 0.1554 - accuracy: 0.9547 - val_loss: 0.1560 - val_accuracy: 0.9543\n",
      "Epoch 8/11\n",
      "1875/1875 [==============================] - 5s 3ms/step - loss: 0.1434 - accuracy: 0.9585 - val_loss: 0.1499 - val_accuracy: 0.9575\n",
      "Epoch 9/11\n",
      "1875/1875 [==============================] - 5s 3ms/step - loss: 0.1324 - accuracy: 0.9617 - val_loss: 0.1350 - val_accuracy: 0.9602\n",
      "Epoch 10/11\n",
      "1875/1875 [==============================] - 5s 3ms/step - loss: 0.1237 - accuracy: 0.9645 - val_loss: 0.1280 - val_accuracy: 0.9634\n",
      "Epoch 11/11\n",
      "1875/1875 [==============================] - 5s 3ms/step - loss: 0.1153 - accuracy: 0.9667 - val_loss: 0.1234 - val_accuracy: 0.9633\n"
     ]
    }
   ],
   "source": [
    "epochs = 11\n",
    "H = model.fit(X_train,y_train,validation_data=(X_test,y_test),epochs=epochs)"
   ]
  },
  {
   "cell_type": "code",
   "execution_count": 9,
   "id": "3ce30ba3",
   "metadata": {},
   "outputs": [
    {
     "name": "stdout",
     "output_type": "stream",
     "text": [
      "              precision    recall  f1-score   support\n",
      "\n",
      "           0       0.96      0.99      0.97       980\n",
      "           1       0.98      0.98      0.98      1135\n",
      "           2       0.97      0.96      0.97      1032\n",
      "           3       0.96      0.96      0.96      1010\n",
      "           4       0.96      0.98      0.97       982\n",
      "           5       0.96      0.95      0.95       892\n",
      "           6       0.95      0.97      0.96       958\n",
      "           7       0.97      0.96      0.96      1028\n",
      "           8       0.94      0.96      0.95       974\n",
      "           9       0.97      0.93      0.95      1009\n",
      "\n",
      "    accuracy                           0.96     10000\n",
      "   macro avg       0.96      0.96      0.96     10000\n",
      "weighted avg       0.96      0.96      0.96     10000\n",
      "\n"
     ]
    }
   ],
   "source": [
    "from sklearn.metrics import classification_report\n",
    "predition = model.predict(X_test)\n",
    "print(classification_report(y_test,predition.argmax(axis=1)))"
   ]
  },
  {
   "cell_type": "code",
   "execution_count": 10,
   "id": "c26fb648",
   "metadata": {},
   "outputs": [
    {
     "data": {
      "image/png": "[encoded data removed]",
      "text/plain": [
       "<Figure size 432x288 with 1 Axes>"
      ]
     },
     "metadata": {
      "needs_background": "light"
     },
     "output_type": "display_data"
    }
   ],
   "source": [
    "import matplotlib.pyplot as plt\n",
    "plt.plot(range(0,epochs),H.history['accuracy'],label = 'train_accuracy')\n",
    "plt.plot(range(0,epochs),H.history['val_accuracy'],label = 'test_accuracy')\n",
    "plt.xlabel('Epochs')\n",
    "plt.ylabel('Accuracy')\n",
    "plt.legend()\n",
    "plt.grid()"
   ]
  },
  {
   "cell_type": "code",
   "execution_count": 11,
   "id": "20e50040",
   "metadata": {},
   "outputs": [
    {
     "data": {
      "image/png": "[encoded data removed]",
      "text/plain": [
       "<Figure size 432x288 with 1 Axes>"
      ]
     },
     "metadata": {
      "needs_background": "light"
     },
     "output_type": "display_data"
    }
   ],
   "source": [
    "import matplotlib.pyplot as plt\n",
    "plt.plot(range(0,epochs),H.history['loss'],label = 'train_loss')\n",
    "plt.plot(range(0,epochs),H.history['val_loss'],label = 'test_loss')\n",
    "plt.xlabel('Epochs')\n",
    "plt.ylabel('Loss')\n",
    "plt.legend()\n",
    "plt.grid();"
   ]
  }
 ],
 "metadata": {
  "kernelspec": {
   "display_name": "Python 3 (ipykernel)",
   "language": "python",
   "name": "python3"
  },
  "language_info": {
   "codemirror_mode": {
    "name": "ipython",
    "version": 3
   },
   "file_extension": ".py",
   "mimetype": "text/x-python",
   "name": "python",
   "nbconvert_exporter": "python",
   "pygments_lexer": "ipython3",
   "version": "3.8.6"
  }
 },
 "nbformat": 4,
 "nbformat_minor": 5
}
