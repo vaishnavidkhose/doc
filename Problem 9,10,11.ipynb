{
 "cells": [
  {
   "cell_type": "markdown",
   "id": "eccb7681",
   "metadata": {},
   "source": [
    "## Name: Vaibhav Bichave\n",
    "\n",
    "## Object detection using Transfer Learning of CNN architectures for the given (image dataset) using the below steps:\n",
    "    a.Load in a pre-trained CNN model trained on a large dataset\n",
    "    b.Freeze parameters (weights) in model's lower convolutional layers\n",
    "    c.Add custom classifier with several layers of trainable parameters to model\n",
    "    d.Train classifier layers on training data available for task\n",
    "    e.Fine-tune hyper parameters and unfreeze more layers as needed "
   ]
  },
  {
   "cell_type": "code",
   "execution_count": 1,
   "id": "ff2fb6be",
   "metadata": {},
   "outputs": [],
   "source": [
    "from tensorflow.keras.datasets import cifar10\n",
    "from tensorflow.keras.models import Sequential,Model\n",
    "from tensorflow.keras.layers import UpSampling2D,Dense,Input,Flatten\n",
    "from tensorflow.keras.applications.inception_v3 import InceptionV3"
   ]
  },
  {
   "cell_type": "code",
   "execution_count": 2,
   "id": "81d12a3c",
   "metadata": {},
   "outputs": [],
   "source": [
    "(X_train,y_train),(X_test,y_test) = cifar10.load_data()"
   ]
  },
  {
   "cell_type": "code",
   "execution_count": 3,
   "id": "8bfad43d",
   "metadata": {},
   "outputs": [],
   "source": [
    "X_train = X_train/255.0\n",
    "X_test = X_test/255.0"
   ]
  },
  {
   "cell_type": "code",
   "execution_count": 4,
   "id": "96c0da78",
   "metadata": {},
   "outputs": [],
   "source": [
    "y_train = y_train.flatten()\n",
    "y_test = y_test.flatten()"
   ]
  },
  {
   "cell_type": "code",
   "execution_count": 5,
   "id": "829ec182",
   "metadata": {},
   "outputs": [],
   "source": [
    "base_model = InceptionV3(include_top=False,weights='imagenet', \n",
    "                         input_shape=(128, 128, 3),pooling='avg')\n",
    "\n",
    "for layer in base_model.layers: \n",
    "   layer.trainable = False"
   ]
  },
  {
   "cell_type": "code",
   "execution_count": 6,
   "id": "5633902e",
   "metadata": {},
   "outputs": [
    {
     "name": "stdout",
     "output_type": "stream",
     "text": [
      "Model: \"sequential\"\n",
      "_________________________________________________________________\n",
      " Layer (type)                Output Shape              Param #   \n",
      "=================================================================\n",
      " up_sampling2d (UpSampling2D  (None, 64, 64, 3)        0         \n",
      " )                                                               \n",
      "                                                                 \n",
      " up_sampling2d_1 (UpSampling  (None, 128, 128, 3)      0         \n",
      " 2D)                                                             \n",
      "                                                                 \n",
      " inception_v3 (Functional)   (None, 2048)              21802784  \n",
      "                                                                 \n",
      " dense (Dense)               (None, 128)               262272    \n",
      "                                                                 \n",
      " dense_1 (Dense)             (None, 32)                4128      \n",
      "                                                                 \n",
      " flatten (Flatten)           (None, 32)                0         \n",
      "                                                                 \n",
      " dense_2 (Dense)             (None, 10)                330       \n",
      "                                                                 \n",
      "=================================================================\n",
      "Total params: 22,069,514\n",
      "Trainable params: 266,730\n",
      "Non-trainable params: 21,802,784\n",
      "_________________________________________________________________\n"
     ]
    }
   ],
   "source": [
    "inputlayer = Input(shape=(32, 32, 3))\n",
    "model = Sequential([\n",
    "    inputlayer,\n",
    "    UpSampling2D((2,2)),\n",
    "    UpSampling2D((2,2)),\n",
    "    base_model,\n",
    "    Dense(128, activation='relu'),\n",
    "    Dense(32, activation='relu'),\n",
    "    Flatten(),\n",
    "    Dense(10, activation='softmax')   \n",
    "])\n",
    "\n",
    "model.summary()"
   ]
  },
  {
   "cell_type": "code",
   "execution_count": 7,
   "id": "31eb0d6e",
   "metadata": {},
   "outputs": [],
   "source": [
    "from tensorflow.keras.losses import SparseCategoricalCrossentropy\n",
    "model.compile(optimizer='adam',loss=SparseCategoricalCrossentropy(),metrics=['accuracy'])"
   ]
  },
  {
   "cell_type": "code",
   "execution_count": 8,
   "id": "89f24123",
   "metadata": {
    "scrolled": true
   },
   "outputs": [
    {
     "name": "stdout",
     "output_type": "stream",
     "text": [
      "1563/1563 [==============================] - 1302s 829ms/step - loss: 0.8759 - accuracy: 0.7081 - val_loss: 0.7293 - val_accuracy: 0.7526\n"
     ]
    }
   ],
   "source": [
    "H = model.fit(X_train,y_train,validation_data=(X_test,y_test),epochs=1)"
   ]
  },
  {
   "cell_type": "code",
   "execution_count": 10,
   "id": "a2b2e090",
   "metadata": {},
   "outputs": [],
   "source": [
    "prediction = model.predict(X_test)"
   ]
  },
  {
   "cell_type": "code",
   "execution_count": 11,
   "id": "76d0151d",
   "metadata": {
    "scrolled": false
   },
   "outputs": [
    {
     "name": "stdout",
     "output_type": "stream",
     "text": [
      "              precision    recall  f1-score   support\n",
      "\n",
      "           0       0.76      0.73      0.75      1000\n",
      "           1       0.83      0.82      0.83      1000\n",
      "           2       0.77      0.71      0.74      1000\n",
      "           3       0.69      0.52      0.59      1000\n",
      "           4       0.75      0.67      0.71      1000\n",
      "           5       0.66      0.79      0.72      1000\n",
      "           6       0.72      0.83      0.77      1000\n",
      "           7       0.77      0.82      0.79      1000\n",
      "           8       0.81      0.80      0.80      1000\n",
      "           9       0.78      0.85      0.81      1000\n",
      "\n",
      "    accuracy                           0.75     10000\n",
      "   macro avg       0.75      0.75      0.75     10000\n",
      "weighted avg       0.75      0.75      0.75     10000\n",
      "\n"
     ]
    }
   ],
   "source": [
    "from sklearn.metrics import classification_report\n",
    "print(classification_report(y_test,prediction.argmax(axis=1)))"
   ]
  }
 ],
 "metadata": {
  "kernelspec": {
   "display_name": "Python 3 (ipykernel)",
   "language": "python",
   "name": "python3"
  },
  "language_info": {
   "codemirror_mode": {
    "name": "ipython",
    "version": 3
   },
   "file_extension": ".py",
   "mimetype": "text/x-python",
   "name": "python",
   "nbconvert_exporter": "python",
   "pygments_lexer": "ipython3",
   "version": "3.8.6"
  }
 },
 "nbformat": 4,
 "nbformat_minor": 5
}
